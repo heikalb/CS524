{
 "cells": [
  {
   "cell_type": "code",
   "execution_count": 80,
   "metadata": {
    "collapsed": false
   },
   "outputs": [],
   "source": [
    "#Model with infinite battery capacity\n",
    "#-----Data-----#\n",
    "#Electricity demand (MWH). Index corresponds to hour \n",
    "demand = [43, 40, 36, 36, 35, 38, 41, 46, 49, 48, 47, 47, \n",
    "          48, 46, 45, 47, 50, 63, 75, 75, 72, 66, 57, 50]\n",
    "\n",
    "purchaseLimit = 75         #Maximum power can be purchased\n",
    "\n",
    "#Cost schedule\n",
    "cost1 = 100\n",
    "cost2 = 400\n",
    "cutOff = 50               #Cut off point between first and second cost level\n",
    "\n",
    "batCap = 30               #Battery power capacity\n",
    "\n",
    "#Calculate daily cost without battery\n",
    "totalCostWOBat = 0\n",
    "\n",
    "for i = 1:24\n",
    "    if(demand[i] <= cutOff)\n",
    "        totalCostWOBat += demand[i]*cost1\n",
    "    else\n",
    "        totalCostWOBat += cutOff*cost1 + (demand[i] - 50)*cost2\n",
    "    end\n",
    "end"
   ]
  },
  {
   "cell_type": "code",
   "execution_count": 98,
   "metadata": {
    "collapsed": false
   },
   "outputs": [
    {
     "name": "stdout",
     "output_type": "stream",
     "text": [
      "Total cost without battery: 152400 dollars\n",
      "Total cost with battery: 120000.0 dollars\n",
      "Savings: 32400.0 dollars\n",
      "Battery levels: [0.0 7.0 17.0 31.0 45.0 60.0 72.0 81.0 85.0 86.0 88.0 91.0 94.0 96.0 100.0 105.0 108.0 108.0 95.0 70.0 45.0 23.0 7.0 0.0 0.0]\n"
     ]
    }
   ],
   "source": [
    "#-----Model-----#\n",
    "using JuMP\n",
    "m = Model()\n",
    "\n",
    "@defVar(m, qBuy1[1:24] >= 0)          #Electricity bounght on the first cost level\n",
    "@defVar(m, qBuy2[1:24] >= 0)          #Electricity bounght on the second cost level\n",
    "@defVar(m, batLevel[1:25] >= 0)       #Battery level at each hour\n",
    "\n",
    "@defExpr(totalCost, sum{qBuy1[i]*cost1 + qBuy2[i]*cost2, i in 1:24}) #Total cost\n",
    "\n",
    "@addConstraint(m, batLevel[1] == 0)                                 #Initial battery level\n",
    "#@addConstraint(m, batLevelLimit[i in 1:24], batLevel[i] <= batCap)  #Battery level must not exceed its capacity\n",
    "@addConstraint(m, priceLevel[i in 1:24], qBuy1[i] <= cutOff)        #Cut off for the first price level\n",
    "#Electricty bought must be within the limit\n",
    "@addConstraint(m, avoidBlackout[i in 1:24], qBuy1[i] + qBuy2[i] <= purchaseLimit)   \n",
    "#Flow constraint\n",
    "@addConstraint(m, balance[i in 1:24], qBuy1[i] + qBuy2[i] + batLevel[i] == demand[i] + batLevel[i + 1])\n",
    "\n",
    "@setObjective(m, Min, totalCost)    #Minimize cost\n",
    "\n",
    "solve(m)\n",
    "println(\"Total cost without battery: \", totalCostWOBat, \" dollars\")\n",
    "println(\"Total cost with battery: \", getValue(totalCost), \" dollars\")\n",
    "println(\"Savings: \", totalCostWOBat - getValue(totalCost), \" dollars\")\n",
    "println(\"Battery levels: \", getValue(batLevel'))"
   ]
  }
 ],
 "metadata": {
  "kernelspec": {
   "display_name": "Julia 0.4.3",
   "language": "julia",
   "name": "julia-0.4"
  },
  "language_info": {
   "file_extension": ".jl",
   "mimetype": "application/julia",
   "name": "julia",
   "version": "0.4.3"
  }
 },
 "nbformat": 4,
 "nbformat_minor": 0
}
