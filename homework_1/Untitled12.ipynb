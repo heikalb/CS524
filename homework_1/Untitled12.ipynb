{
 "cells": [
  {
   "cell_type": "code",
   "execution_count": 12,
   "metadata": {
    "collapsed": false
   },
   "outputs": [
    {
     "name": "stdout",
     "output_type": "stream",
     "text": [
      "Optimal\n",
      "\n",
      "z1 = 8.571428571428571\n",
      "z2 = 0.4285714285714286\n",
      "z3 = -1.0\n",
      "z4 = 2.0\n",
      "objective = 25.28571428571429\n"
     ]
    }
   ],
   "source": [
    "#c, A, b vectors\n",
    "c = [-3; 3; 1; 0; 0; 0; 0; 0; 0; 0]\n",
    "A = [-1 1 6 0 -1 0 1 0 -1 0;\n",
    "    0 0 7 0 0 0 1 0 0 0;\n",
    "    0 0 0 0 1 0 1 0 0 1;\n",
    "    0 0 1 1 0 0 0 0 0 0;\n",
    "    0 0 0 0 1 1 0 0 0 0;\n",
    "    0 0 0 0 0 0 1 1 0 0]\n",
    "b = [4; 14; 5; 6; 6; 4]\n",
    "\n",
    "using JuMP\n",
    "m = Model()\n",
    "\n",
    "@defVar(m, x[1:10] >= 0)   #Variables: [x1; x1'; x2; x2'; x3; x3'; x4; x4'; x5; x6]\n",
    "@addConstraint(m, A*x .== b)  #Constraint\n",
    "@setObjective(m, Min, dot(c, x) -1)\n",
    "\n",
    "#Calculate and display result\n",
    "println(solve(m))\n",
    "println()\n",
    "#Display original z-variables by reversing transformations on x-variables\n",
    "println(\"z1 = \", getValue(x[1] - x[2]))\n",
    "println(\"z2 = \", getValue(x[3] - 1))\n",
    "println(\"z3 = \", getValue(x[5] - 1))\n",
    "println(\"z4 = \", getValue(x[7] - 2))\n",
    "println(\"objective = \", -(getObjectiveValue(m)) ) #negated to give maximum value"
   ]
  },
  {
   "cell_type": "code",
   "execution_count": null,
   "metadata": {
    "collapsed": true
   },
   "outputs": [],
   "source": []
  }
 ],
 "metadata": {
  "kernelspec": {
   "display_name": "Julia 0.4.3",
   "language": "julia",
   "name": "julia-0.4"
  },
  "language_info": {
   "file_extension": ".jl",
   "mimetype": "application/julia",
   "name": "julia",
   "version": "0.4.3"
  }
 },
 "nbformat": 4,
 "nbformat_minor": 0
}
