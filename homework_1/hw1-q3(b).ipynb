{
 "cells": [
  {
   "cell_type": "code",
   "execution_count": 10,
   "metadata": {
    "collapsed": false
   },
   "outputs": [
    {
     "name": "stdout",
     "output_type": "stream",
     "text": [
      "Materials used: \n",
      "matUsed: 1 dimensions, 7 entries:\n",
      " [aluminium1] = 57.462425725270904\n",
      " [aluminium2] = 0.0\n",
      " [   copper1] = 0.0\n",
      " [   copper2] = 2.761272282418734\n",
      " [ironAlloy1] = 400.0\n",
      " [ironAlloy2] = 0.0\n",
      " [ironAlloy3] = 39.77630199231035\n",
      "Total cost: 98121.63579168123 dollars\n"
     ]
    }
   ],
   "source": [
    "#----------Data----------#\n",
    "\n",
    "#Chemical elements\n",
    "element = [:carbon, :copper, :manganese]\n",
    "\n",
    "#Minimum grade of chemical elements required\n",
    "minGrade = Dict(:carbon => 0.02, :copper => 0.004, :manganese => 0.012)\n",
    "\n",
    "#Maximum grade of chemical elements required\n",
    "maxGrade = Dict(:carbon => 0.03, :copper => 0.006, :manganese => 0.0165)\n",
    "\n",
    "#Raw materials\n",
    "mat = [:ironAlloy1, :ironAlloy2, :ironAlloy3, :copper1, :copper2, :aluminium1, :aluminium2]\n",
    "\n",
    "#Carbon grade of raw materials\n",
    "carbGrade = Dict(:ironAlloy1 => 0.025, :ironAlloy2 => 0.03, :ironAlloy3 => 0, \n",
    "          :copper1 => 0, :copper2 => 0, :aluminium1 => 0, :aluminium2 => 0)\n",
    "\n",
    "#Copper grade of raw materials\n",
    "copGrade = Dict(:ironAlloy1 => 0, :ironAlloy2 => 0, :ironAlloy3 => 0.003, \n",
    "          :copper1 => 0.9, :copper2 => 0.96, :aluminium1 => 0.004, :aluminium2 => 0.006)\n",
    "\n",
    "#Manganese grade of raw materials\n",
    "mangGrade = Dict(:ironAlloy1 => 0.013, :ironAlloy2 => 0.008, :ironAlloy3 => 0, \n",
    "          :copper1 => 0, :copper2 => 0.04, :aluminium1 => 0.012, :aluminium2 => 0)\n",
    "\n",
    "#Amount of raw materials available in tons\n",
    "matQuant = Dict(:ironAlloy1 => 400, :ironAlloy2 => 300, :ironAlloy3 => 600, \n",
    "          :copper1 => 500, :copper2 => 200, :aluminium1 => 300, :aluminium2 => 250)\n",
    "\n",
    "#Cost per ton of raw materials in dollars\n",
    "matCost = Dict(:ironAlloy1 => 200, :ironAlloy2 => 250, :ironAlloy3 => 150, \n",
    "          :copper1 => 220, :copper2 => 240, :aluminium1 => 200, :aluminium2 => 165)\n",
    "\n",
    "#Amount of steel ordered in tons\n",
    "orderedQuant = 500\n",
    "\n",
    "\n",
    "\n",
    "#----------Model----------#\n",
    "\n",
    "using JuMP\n",
    "m = Model()\n",
    "\n",
    "#Variables\n",
    "@defVar(m, matUsed[mat] >= 0)                                           #Amount of a material used in tons \n",
    "\n",
    "#Expressions\n",
    "@defExpr(prodQuant, sum{matUsed[i], i in mat})                               #Total material amount used in production\n",
    "@defExpr(totalCost, sum{matUsed[i]*matCost[i], i in mat})                    #Total cost\n",
    "@defExpr(prodCarbGrade, sum{matUsed[i]*carbGrade[i], i in mat} / orderedQuant)   #Carbon grade of the steel produced\n",
    "@defExpr(prodCopGrade, sum{matUsed[i]*copGrade[i], i in mat} / orderedQuant)     #Copper grade of the steel produced\n",
    "@defExpr(prodMangGrade, sum{matUsed[i]*mangGrade[i], i in mat} / orderedQuant)   #Manganese grade of the steel produced\n",
    "\n",
    "#Constraints:\n",
    "\n",
    "#Fulfil demand\n",
    "@addConstraint(m, prodQuant == orderedQuant)\n",
    "\n",
    "#Constraints on minimum and maximum grade of elements\n",
    " #a)carbon\n",
    "@addConstraint(m, minGrade[:carbon] <= prodCarbGrade <= maxGrade[:carbon])\n",
    " #b)copper\n",
    "@addConstraint(m, minGrade[:copper] <= prodCopGrade <= maxGrade[:copper])\n",
    " #c) manganese\n",
    "@addConstraint(m, minGrade[:manganese] <= prodMangGrade <= maxGrade[:manganese])\n",
    "\n",
    "#Constraint on amount of each material used\n",
    "@addConstraint(m, quantity[i in 1:7], matUsed[mat[i]] <= matQuant[mat[i]])\n",
    "\n",
    "\n",
    "#Cost function to minimize\n",
    "@setObjective(m, Min, totalCost)\n",
    "\n",
    "\n",
    "#----------Display result----------#\n",
    "solve(m)\n",
    "println(\"Materials used: \")    \n",
    "println(getValue(matUsed))\n",
    "println(\"Total cost: \", getValue(totalCost), \" dollars\" )"
   ]
  },
  {
   "cell_type": "code",
   "execution_count": null,
   "metadata": {
    "collapsed": true
   },
   "outputs": [],
   "source": []
  }
 ],
 "metadata": {
  "kernelspec": {
   "display_name": "Julia 0.4.3",
   "language": "julia",
   "name": "julia-0.4"
  },
  "language_info": {
   "file_extension": ".jl",
   "mimetype": "application/julia",
   "name": "julia",
   "version": "0.4.3"
  }
 },
 "nbformat": 4,
 "nbformat_minor": 0
}
