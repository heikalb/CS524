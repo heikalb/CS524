{
 "cells": [
  {
   "cell_type": "code",
   "execution_count": 7,
   "metadata": {
    "collapsed": false
   },
   "outputs": [
    {
     "name": "stdout",
     "output_type": "stream",
     "text": [
      "Max 5 x[1] - x[2] + 11 x[3]\n",
      "Subject to\n",
      " 2 x[1] - x[2] - x[3] ≥ 0\n",
      " 0 ≤ x[i] ≤ 3 ∀ i ∈ {1,2,3}\n",
      "\n",
      "Optimal\n",
      "\n",
      "x1 = 2.999985652990818\n",
      "x2 = 4.149724928776938e-6\n",
      "x3 = 3.0000130627112176\n",
      "objective function =  48.00006780505256\n",
      "----------------------------------------------------------------------------\n",
      "\tSCS v1.1.8 - Splitting Conic Solver\n",
      "\t(c) Brendan O'Donoghue, Stanford University, 2012-2015\n",
      "----------------------------------------------------------------------------\n",
      "Lin-sys: sparse-direct, nnz in A = 9\n",
      "eps = 1.00e-04, alpha = 1.80, max_iters = 20000, normalize = 1, scale = 5.00\n",
      "Variables n = 3, constraints m = 7\n",
      "Cones:\tlinear vars: 7\n",
      "Setup time: 1.53e-04s\n",
      "----------------------------------------------------------------------------\n",
      " Iter | pri res | dua res | rel gap | pri obj | dua obj | kap/tau | time (s)\n",
      "----------------------------------------------------------------------------\n",
      "     0|      inf       inf       nan      -inf       nan       inf  2.57e-05 \n",
      "   100| 8.00e-05  1.91e-04  8.48e-06 -4.80e+01 -4.80e+01  2.69e-15  1.50e-04 \n",
      "   140| 4.49e-06  2.70e-06  1.09e-07 -4.80e+01 -4.80e+01  0.00e+00  2.06e-04 \n",
      "----------------------------------------------------------------------------\n",
      "Status: Solved\n",
      "Timing: Solve time: 2.08e-04s\n",
      "\tLin-sys: nnz in L factor: 19, avg solve time: 2.01e-07s\n",
      "\tCones: avg projection time: 5.10e-08s\n",
      "----------------------------------------------------------------------------\n",
      "Error metrics:\n",
      "dist(s, K) = 1.3565e-17, dist(y, K*) = 0.0000e+00, s'y/m = -9.2050e-18\n",
      "|Ax + s - b|_2 / (1 + |b|_2) = 4.4865e-06\n",
      "|A'y + c|_2 / (1 + |c|_2) = 2.7040e-06\n",
      "|c'x + b'y| / (1 + |c'x| + |b'y|) = 1.0946e-07\n",
      "----------------------------------------------------------------------------\n",
      "c'x = -48.0001, -b'y = -48.0001\n",
      "============================================================================\n"
     ]
    }
   ],
   "source": [
    "# Solving using SCS\n",
    "\n",
    "using JuMP\n",
    "using SCS\n",
    "\n",
    "m = Model(solver = SCSSolver())\n",
    "\n",
    "@defVar(m, 0 <= x[1:3] <= 3)                      #Variables x1, x2, x3\n",
    "@addConstraint(m, 2*x[1] >= x[2] +x[3])           #Constraint\n",
    "@setObjective(m, Max, 5*x[1] - x[2] + 11*x[3])    #Objective function to maximize\n",
    "\n",
    "status = solve(m)\n",
    "\n",
    "println(m)\n",
    "println(status)\n",
    "println()\n",
    "\n",
    "println(\"x1 = \", getValue(x[1]))\n",
    "println(\"x2 = \", getValue(x[2]))\n",
    "println(\"x3 = \", getValue(x[3]))\n",
    "println(\"objective function =  \", getObjectiveValue(m))"
   ]
  },
  {
   "cell_type": "code",
   "execution_count": null,
   "metadata": {
    "collapsed": true
   },
   "outputs": [],
   "source": []
  }
 ],
 "metadata": {
  "kernelspec": {
   "display_name": "Julia 0.4.3",
   "language": "julia",
   "name": "julia-0.4"
  },
  "language_info": {
   "file_extension": ".jl",
   "mimetype": "application/julia",
   "name": "julia",
   "version": "0.4.3"
  }
 },
 "nbformat": 4,
 "nbformat_minor": 0
}
