{
 "cells": [
  {
   "cell_type": "code",
   "execution_count": 26,
   "metadata": {
    "collapsed": false
   },
   "outputs": [
    {
     "name": "stdout",
     "output_type": "stream",
     "text": [
      "Optimal variable values\n",
      "T: 23.840239439054596\n",
      "r: 46.39042809089772\n",
      "w: 4.6390427937555\n"
     ]
    }
   ],
   "source": [
    "cMax = 500    #Maximum cost\n",
    "\n",
    "#Values of constants\n",
    "a1 = a2 = a3 = a4 = 1\n",
    "\n",
    "using JuMP\n",
    "using Ipopt\n",
    "m = Model(solver = IpoptSolver(print_level=0))\n",
    "\n",
    "@defVar(m, x)    #log of T, Fluid temperature\n",
    "@defVar(m, y)    #log of r, insulation thickness\n",
    "@defVar(m, z)    #log of w, radius of pipe cross section\n",
    "\n",
    "#Do not exceed maximum cost\n",
    "@addNLConstraint(m, log(e^(log(a1/cMax) + x + y - z) +  e^(log(a2/cMax) + y)  + e^(log(a3/cMax) + y + z) ) <= 0 )\n",
    "#Original vairbales are positive\n",
    "@addNLConstraint(m, e^x >= 0)\n",
    "@addNLConstraint(m, e^y >= 0)\n",
    "@addNLConstraint(m, e^z >= 0)\n",
    "@addConstraint(m, z - y <= log(0.1))       #w is smaller than r\n",
    "\n",
    "@setObjective(m, Min, log(a4) - x - 2*y)   #Minimize total cost\n",
    "solve(m)\n",
    "\n",
    "println(\"Optimal variable values\")\n",
    "println(\"T: \", e^getValue(x))\n",
    "println(\"r: \", e^getValue(y))\n",
    "println(\"w: \", e^getValue(z))"
   ]
  },
  {
   "cell_type": "code",
   "execution_count": 34,
   "metadata": {
    "collapsed": false
   },
   "outputs": [
    {
     "data": {
      "text/plain": [
       ":Optimal"
      ]
     },
     "execution_count": 34,
     "metadata": {},
     "output_type": "execute_result"
    }
   ],
   "source": [
    "mO = Model(solver = IpoptSolver(print_level=0))\n",
    "\n",
    "@defVar(mO, T >= 0) \n",
    "@defVar(mO, r >= 0)    \n",
    "@defVar(mO, w >= 0)\n",
    "\n",
    "@addNLConstraint(mO, a1*T*r/w + a2*r + a3*r*w <= cMax)\n",
    "@addConstraint(mO, w <= 0.1*r)\n",
    "@setNLObjective(mO, Max, a4*T*r^2)\n",
    "solve(mO)\n",
    "\n",
    "println(\"T: \")"
   ]
  },
  {
   "cell_type": "code",
   "execution_count": null,
   "metadata": {
    "collapsed": true
   },
   "outputs": [],
   "source": []
  }
 ],
 "metadata": {
  "kernelspec": {
   "display_name": "Julia 0.4.3",
   "language": "julia",
   "name": "julia-0.4"
  },
  "language_info": {
   "file_extension": ".jl",
   "mimetype": "application/julia",
   "name": "julia",
   "version": "0.4.3"
  }
 },
 "nbformat": 4,
 "nbformat_minor": 0
}
