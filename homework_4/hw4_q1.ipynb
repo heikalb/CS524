{
 "cells": [
  {
   "cell_type": "code",
   "execution_count": 26,
   "metadata": {
    "collapsed": false
   },
   "outputs": [
    {
     "name": "stdout",
     "output_type": "stream",
     "text": [
      "Number of disjoint paths: 4.0\n"
     ]
    }
   ],
   "source": [
    "#Matrix specifying connections in the network\n",
    "network = [ 0 1 1 0 0 0 0 0 0 0 1;\n",
    "            1 0 1 0 0 0 0 1 1 0 0;\n",
    "            1 1 0 1 0 0 0 0 1 1 1;\n",
    "            0 0 1 0 1 1 0 0 0 0 1;\n",
    "            0 0 0 1 0 0 0 0 1 0 1;\n",
    "            0 0 0 1 0 0 1 0 1 1 0;\n",
    "            0 0 0 0 0 1 0 1 0 1 0;\n",
    "            0 1 0 0 0 0 1 0 0 1 0;\n",
    "            0 1 1 0 1 1 0 0 0 1 0;\n",
    "            0 0 1 0 0 1 1 1 1 0 0;\n",
    "            1 0 1 1 1 0 0 0 0 0 0 ]\n",
    "\n",
    "n = size(network)[2]\n",
    "\n",
    "using JuMP\n",
    "m = Model()\n",
    "\n",
    "@defVar(m, flow[1:n,1:n] >= 0)   #flow[i, j] is amount going from node i to j\n",
    "\n",
    "@addConstraint(m, sum(flow[10,:]) >= 1)   #Initial amount on starting node\n",
    "#Only 1 unit of flow may pass through intermediate nodes\n",
    "@addConstraint(m, inflowCap[c in 1:n-1], sum(flow[:,c]) <= 1)   \n",
    "@addConstraint(m, outflow[i in 1:n-2], sum(flow[i,:]) <= sum(flow[:,i]))   #Flow balance\n",
    "#There is flow only through existing connections\n",
    "@addConstraint(m, linkExists[r in 1:n, c in 1:n], network[r,c] - flow[r, c] >= 0)\n",
    "\n",
    "@setObjective(m, Max, sum(flow[:, n]))    #Maximize flow towards end node \n",
    "\n",
    "solve(m)\n",
    "println(\"Number of disjoint paths: \", getObjectiveValue(m))"
   ]
  }
 ],
 "metadata": {
  "kernelspec": {
   "display_name": "Julia 0.4.3",
   "language": "julia",
   "name": "julia-0.4"
  },
  "language_info": {
   "file_extension": ".jl",
   "mimetype": "application/julia",
   "name": "julia",
   "version": "0.4.3"
  }
 },
 "nbformat": 4,
 "nbformat_minor": 0
}
