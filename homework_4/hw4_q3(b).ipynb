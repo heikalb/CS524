{
 "cells": [
  {
   "cell_type": "code",
   "execution_count": 26,
   "metadata": {
    "collapsed": false
   },
   "outputs": [
    {
     "name": "stdout",
     "output_type": "stream",
     "text": [
      "Optimal variable values\n",
      "T: 23.840239439054596\n",
      "r: 46.39042809089772\n",
      "w: 4.6390427937555\n"
     ]
    }
   ],
   "source": [
    "cMax = 500    #Maximum cost\n",
    "\n",
    "a1 = a2 = a3 = a4 = 1  #Values of constants\n",
    "\n",
    "using JuMP\n",
    "using Ipopt\n",
    "m = Model(solver = IpoptSolver(print_level=0))\n",
    "\n",
    "@defVar(m, x)    #log of T, fluid temperature\n",
    "@defVar(m, y)    #log of r, insulation thickness\n",
    "@defVar(m, z)    #log of w, radius of pipe cross section\n",
    "\n",
    "#Do not exceed maximum cost\n",
    "@addNLConstraint(m, log(e^(log(a1/cMax) + x + y - z) +  e^(log(a2/cMax) + y)  \n",
    "                        + e^(log(a3/cMax) + y + z) ) <= 0 )\n",
    "#Original variables are positive\n",
    "@addNLConstraint(m, e^x >= 0)\n",
    "@addNLConstraint(m, e^y >= 0)\n",
    "@addNLConstraint(m, e^z >= 0)\n",
    "@addConstraint(m, z - y <= log(0.1))       #w is smaller than r\n",
    "\n",
    "@setObjective(m, Min, log(a4) - x - 2*y)   #Minimize total cost\n",
    "solve(m)\n",
    "\n",
    "println(\"Optimal variable values\")\n",
    "println(\"T: \", e^getValue(x))\n",
    "println(\"r: \", e^getValue(y))\n",
    "println(\"w: \", e^getValue(z))"
   ]
  }
 ],
 "metadata": {
  "kernelspec": {
   "display_name": "Julia 0.4.3",
   "language": "julia",
   "name": "julia-0.4"
  },
  "language_info": {
   "file_extension": ".jl",
   "mimetype": "application/julia",
   "name": "julia",
   "version": "0.4.3"
  }
 },
 "nbformat": 4,
 "nbformat_minor": 0
}
