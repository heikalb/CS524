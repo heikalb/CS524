{
 "cells": [
  {
   "cell_type": "code",
   "execution_count": 5,
   "metadata": {
    "collapsed": false
   },
   "outputs": [
    {
     "ename": "LoadError",
     "evalue": "LoadError: UndefVarError: ECOSSolver not defined\nwhile loading In[5], in expression starting on line 7",
     "output_type": "error",
     "traceback": [
      "LoadError: UndefVarError: ECOSSolver not defined\nwhile loading In[5], in expression starting on line 7",
      ""
     ]
    }
   ],
   "source": [
    "#Matrix of random coordinates \n",
    "#(for X[a,b] a and b is the horizontal and vertical positions, respectively)\n",
    "X = 4 + randn(2,50)\n",
    "\n",
    "#-----Model-----#\n",
    "using JuMP\n",
    "m = Model()\n",
    "\n",
    "#Coordinates of the center of the circle\n",
    "@defVar(m, xCenter)\n",
    "@defVar(m, yCenter)\n",
    "#Radius of the circle\n",
    "@defVar(m, radius >= 0)\n",
    "\n",
    "#All points must be covered by the circle\n",
    "@addConstraint(m, inclusion[i in 1:50], (X[1,i] - xCenter)^2 + (X[2,i] - yCenter)^2 <= radius^2)\n",
    "\n",
    "#Minimize circle area\n",
    "@setObjective(m, Min, pi*radius*radius)\n",
    "solve(m)\n",
    "\n",
    "#-----Display results-----#\n",
    "using Gadfly\n",
    "\n",
    "#The enclosing circle\n",
    "circ = linspace(0, 2*pi, 100)\n",
    "\n",
    "#Display points and circle\n",
    "plot(   layer(x = X[1,:], y = X[2,:], Geom.point),\n",
    "        layer(x = getValue(radius)*cos(circ) + getValue(xCenter) , y = getValue(radius)*sin(circ) + getValue(yCenter), \n",
    "              Geom.PolygonGeometry, Theme(default_color = colorant\"orange\")),\n",
    "        Coord.cartesian(fixed = true)\n",
    ")"
   ]
  },
  {
   "cell_type": "code",
   "execution_count": null,
   "metadata": {
    "collapsed": true
   },
   "outputs": [],
   "source": []
  }
 ],
 "metadata": {
  "kernelspec": {
   "display_name": "Julia 0.4.3",
   "language": "julia",
   "name": "julia-0.4"
  },
  "language_info": {
   "file_extension": ".jl",
   "mimetype": "application/julia",
   "name": "julia",
   "version": "0.4.3"
  }
 },
 "nbformat": 4,
 "nbformat_minor": 0
}
