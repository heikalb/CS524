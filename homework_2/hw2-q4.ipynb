{
 "cells": [
  {
   "cell_type": "code",
   "execution_count": 1,
   "metadata": {
    "collapsed": false,
    "scrolled": true
   },
   "outputs": [
    {
     "name": "stdout",
     "output_type": "stream",
     "text": [
      "Flow of cars: \n",
      "Agency 2 to agency 3: 1.0\n",
      "Agency 2 to agency 6: 5.0\n",
      "Agency 2 to agency 7: 1.0\n",
      "Agency 5 to agency 4: 3.0\n",
      "Agency 8 to agency 10: 5.0\n",
      "Agency 9 to agency 1: 2.0\n",
      "Agency 9 to agency 3: 3.0\n",
      "Agency 9 to agency 8: 1.0\n"
     ]
    }
   ],
   "source": [
    "#---Data---#\n",
    "#Agencies\n",
    "agency = collect(1:10)\n",
    "\n",
    "#Position of agencies, (x, y) coordinates\n",
    "position = [0 0; 20 20; 18 10; 30 12; 35 0; 33 25; 5 27; 5 10; 11 0; 2 15]\n",
    "\n",
    "#Car requirement of agencies \n",
    "carsNeeded = [10, 6, 8, 11, 9, 7, 15, 7, 9, 12]\n",
    "\n",
    "#Cars present currently\n",
    "carsInitially = [8, 13, 4, 8, 12, 2, 14, 11, 15, 7]\n",
    "\n",
    "#Transportation cost per car per mile\n",
    "mileCost = 0.50\n",
    "\n",
    "#Ratio of road distance to Euclidean distance\n",
    "ratio = 1.3\n",
    "\n",
    "\n",
    "#---Model---#\n",
    "using JuMP\n",
    "model = Model()\n",
    "\n",
    "#Flow of cars: [source, target, amount]\n",
    "@defVar(model, flow[agency, agency] >= 0)\n",
    "\n",
    "#Cost of transporting a car between two agencies\n",
    "@defExpr(cost[s in agency, r in agency],  sqrt( (position[s, 1] - position[r, 1])^2 \n",
    "+ (position[s, 2] - position[r, 2])^2)*ratio*mileCost*flow[s,r])\n",
    "\n",
    "#Inflows to an agency\n",
    "@defExpr(inflow[r in agency], sum{flow[s, r], s in agency})\n",
    "\n",
    "#Outflows out of an agency\n",
    "@defExpr(outflow[s in agency], sum{flow[s, r], r in agency})\n",
    "\n",
    "#Cars present at an agency\n",
    "@defExpr(carsNow[a in agency], carsInitially[a] + inflow[a] - outflow[a])\n",
    "\n",
    "#Agencies must get the cars they need\n",
    "@addConstraint(model, meetNeed[a in agency], carsNow[a] >= carsNeeded[a])\n",
    "\n",
    "#Constraint on outflow of cars from an agency\n",
    "@addConstraint(model, supply[a in agency], outflow[a] <= carsInitially[a])\n",
    "\n",
    "#Minimize transportation cost\n",
    "@setObjective(model, Min, sum(cost))\n",
    "\n",
    "solve(model)\n",
    "\n",
    "#Display non-zero flows\n",
    "println(\"Flow of cars: \")\n",
    "for s in agency\n",
    "    for r in agency\n",
    "        if(getValue(flow[s,r]) > 0)\n",
    "            println(\"Agency $s to agency $r: \", getValue(flow[s,r]))\n",
    "        end\n",
    "    end\n",
    "end"
   ]
  }
 ],
 "metadata": {
  "kernelspec": {
   "display_name": "Julia 0.4.3",
   "language": "julia",
   "name": "julia-0.4"
  },
  "language_info": {
   "file_extension": ".jl",
   "mimetype": "application/julia",
   "name": "julia",
   "version": "0.4.3"
  }
 },
 "nbformat": 4,
 "nbformat_minor": 0
}
