{
 "cells": [
  {
   "cell_type": "code",
   "execution_count": 1,
   "metadata": {
    "collapsed": false
   },
   "outputs": [
    {
     "name": "stdout",
     "output_type": "stream",
     "text": [
      "Completion time: 64.0 weeks\n"
     ]
    }
   ],
   "source": [
    "#Tasks\n",
    "task = [:t1, :t2, :t3, :t4, :t5, :t6, :t7, :t8, \n",
    "        :t9, :t10, :t11, :t12, :t13, :t14, :t15, :t16, :t17, :t18]\n",
    "\n",
    "#Project time spans\n",
    "sp = [2 16 9 8 10 6 2 2 9 5 3 2 1 7 4 3 9 1]\n",
    "span = Dict(zip(task,sp))\n",
    "\n",
    "#Task predecessors\n",
    "pr = ( [], [:t1], [:t2], [:t2], [:t3], [:t4, :t5], [:t4], [:t6], [:t4, :t6], [:t4], [:t6], \n",
    "       [:t9],[:t7], [:t2], [:t4, :t14], [:t8, :t11, :t14], [:t12], [:t17])\n",
    "pred = Dict(zip(task,pr))\n",
    "\n",
    "#Maximum task week reduction \n",
    "mR = [0 3 1 2 2 1 1 0 2 1 1 0 0 2 2 1 3 0]\n",
    "maxRed = Dict(zip(task, mR))\n",
    "\n",
    "#Reduction cost per week\n",
    "rC = [0 30 26 12 17 15 8 0 42 21 18 0 0 22 12 6 16 0]\n",
    "redCost = Dict(zip(task, rC))\n",
    "\n",
    "\n",
    "using JuMP\n",
    "m = Model()\n",
    "\n",
    "#Start time of tasks\n",
    "@defVar(m, startTime[task] >= 0 )\n",
    "\n",
    "#Predecessors must be completed before each task\n",
    "@addConstraint(m, completePred[t in task,p in pred[t]], startTime[t] >= startTime[p] + span[p])\n",
    "\n",
    "#Minimimize completion time of final task\n",
    "@setObjective(m, Min, startTime[task[end]] + span[task[end]])\n",
    "\n",
    "solve(m)\n",
    "#Display completion time\n",
    "println(\"Completion time: \",getObjectiveValue(m), \" weeks\")"
   ]
  }
 ],
 "metadata": {
  "kernelspec": {
   "display_name": "Julia 0.4.3",
   "language": "julia",
   "name": "julia-0.4"
  },
  "language_info": {
   "file_extension": ".jl",
   "mimetype": "application/julia",
   "name": "julia",
   "version": "0.4.3"
  }
 },
 "nbformat": 4,
 "nbformat_minor": 0
}
