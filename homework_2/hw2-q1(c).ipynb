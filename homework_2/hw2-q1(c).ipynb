{
 "cells": [
  {
   "cell_type": "code",
   "execution_count": 1,
   "metadata": {
    "collapsed": false
   },
   "outputs": [
    {
     "name": "stdout",
     "output_type": "stream",
     "text": [
      "Lambda values:\n",
      "\n",
      "lambda: 1 dimensions, 9 entries:\n",
      " [ Ascorbic Acid (mg)] = 0.052602893142533885\n",
      " [        Calcium (g)] = 11.5842654076576\n",
      " [    Calories (1000)] = 3.1992787637880906\n",
      " [          Iron (mg)] = 0.0\n",
      " [        Niacin (mg)] = 0.0\n",
      " [        Protein (g)] = 0.0\n",
      " [    Riboflavin (mg)] = 5.970681935235992\n",
      " [      Thiamine (mg)] = 0.0\n",
      " [Vitamin A (1000 IU)] = 0.1460849434297644\n"
     ]
    }
   ],
   "source": [
    "using NamedArrays      # make sure you run Pkg.add(\"NamedArrays\") first!\n",
    "\n",
    "# import Stigler's data set\n",
    "raw = readdlm(\"stigler.csv\",',');\n",
    "(m,n) = size(raw)\n",
    "\n",
    "n_nutrients = 2:n      # columns containing nutrients\n",
    "n_foods = 3:m          # rows containing food names\n",
    "\n",
    "nutrients = raw[1,n_nutrients][:]   # the list of nutrients (convert to 1-D array)\n",
    "foods = raw[n_foods,1][:]           # the list of foods (convert to 1-D array)\n",
    "\n",
    "# lower[i] is the minimum daily requirement of nutrient i.\n",
    "lower = Dict( zip(nutrients,raw[2,n_nutrients]) )\n",
    "\n",
    "# data[f,i] is the amount of nutrient i contained in food f.\n",
    "data = NamedArray( raw[n_foods,n_nutrients], (foods,nutrients), (\"foods\",\"nutrients\") );\n",
    "\n",
    "\n",
    "#----Dual Model----#\n",
    "using JuMP\n",
    "m = Model()\n",
    "\n",
    "#Lambdas corresponding to RDA constraints\n",
    "@defVar(m, lambda[nutrients] >= 0)\n",
    "\n",
    "#Dual Constraints\n",
    "@addConstraint(m, dualConst[f in foods], sum{data[f, n]*lambda[n], n in nutrients} <= 365)\n",
    "\n",
    "#Maximize dot product of RDA and lambda matrices\n",
    "@setObjective(m, Max, sum{lower[n]*lambda[n], n in nutrients})\n",
    "\n",
    "solve(m)\n",
    "#Display results\n",
    "println(\"Lambda values:\")\n",
    "println()\n",
    "println(getValue(lambda))"
   ]
  }
 ],
 "metadata": {
  "kernelspec": {
   "display_name": "Julia 0.4.3",
   "language": "julia",
   "name": "julia-0.4"
  },
  "language_info": {
   "file_extension": ".jl",
   "mimetype": "application/julia",
   "name": "julia",
   "version": "0.4.3"
  }
 },
 "nbformat": 4,
 "nbformat_minor": 0
}
