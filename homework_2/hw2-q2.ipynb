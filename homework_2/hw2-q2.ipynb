{
 "cells": [
  {
   "cell_type": "code",
   "execution_count": 2,
   "metadata": {
    "collapsed": false,
    "scrolled": false
   },
   "outputs": [
    {
     "name": "stdout",
     "output_type": "stream",
     "text": [
      "[project, month]\n",
      "laborUsed: 2 dimensions, 12 entries:\n",
      " [p1,1] = 0.0\n",
      " [p1,2] = 2.0\n",
      " [p1,3] = 6.0\n",
      " [p1,4] = 0.0\n",
      " [p2,1] = 2.0\n",
      " [p2,2] = 0.0\n",
      " [p2,3] = 2.0\n",
      " [p2,4] = 6.0\n",
      " [p3,1] = 6.0\n",
      " [p3,2] = 6.0\n",
      " [p3,3] = 0.0\n",
      " [p3,4] = 0.0\n"
     ]
    }
   ],
   "source": [
    "#---Data---#\n",
    "#Months\n",
    "month = [1, 2, 3, 4]\n",
    "\n",
    "#Projects\n",
    "project = [:p1, :p2, :p3]\n",
    "\n",
    "#Deadlines(months from start time)\n",
    "deadline = Dict(:p1 => 3, :p2 => 4,:p3 => 2)\n",
    "\n",
    "#Labor requirement of projects\n",
    "laborRequirement = Dict(:p1 => 8, :p2 =>10, :p3 => 12)\n",
    "\n",
    "#Total worker available per month\n",
    "laborAvailable = 8\n",
    "\n",
    "#Number of workers allowed on project in a given month\n",
    "laborLimit = 6\n",
    "\n",
    "# ---Model---#\n",
    "using JuMP\n",
    "m = Model()\n",
    "\n",
    "#Labor used for a project in a month\n",
    "@defVar(m, 0 <= laborUsed[project, month] <= laborLimit)\n",
    "\n",
    "#Total labor used in a month\n",
    "@defExpr(monthlyTotal[mn in month], sum{laborUsed[p, mn], p in project})\n",
    "\n",
    "#Limit on total labor used monthly\n",
    "@addConstraint(m, monthlyLimit[mn in month], monthlyTotal[mn] <= laborAvailable)\n",
    "#Each project must get enough labor for completion\n",
    "@addConstraint(m, completion[p in project], sum{laborUsed[p, mn], mn in month}>= laborRequirement[p])\n",
    "#Work must be done by the deadlines\n",
    "@addConstraint(m, meetDeadline[p in project], sum{laborUsed[p, i], i in (deadline[p] + 1):length(month)} == 0)\n",
    "\n",
    "#Minimize total labor used\n",
    "@setObjective(m, Min, sum(monthlyTotal))\n",
    "\n",
    "#Display result\n",
    "solve(m)\n",
    "println(\"[project, month]\")\n",
    "println(getValue(laborUsed))"
   ]
  }
 ],
 "metadata": {
  "kernelspec": {
   "display_name": "Julia 0.4.3",
   "language": "julia",
   "name": "julia-0.4"
  },
  "language_info": {
   "file_extension": ".jl",
   "mimetype": "application/julia",
   "name": "julia",
   "version": "0.4.3"
  }
 },
 "nbformat": 4,
 "nbformat_minor": 0
}
