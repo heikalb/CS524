{
 "cells": [
  {
   "cell_type": "code",
   "execution_count": 2,
   "metadata": {
    "collapsed": false
   },
   "outputs": [
    {
     "name": "stdout",
     "output_type": "stream",
     "text": [
      "Employees to meet: \n",
      "1000: Anne \n",
      "1020: Chris \n",
      "1040: Manuel \n",
      "1100: Daniel \n",
      "1120: Spyros \n",
      "1140: Tom \n",
      "1200: Malte Josep Joel \n",
      "1300: Florian \n",
      "1320: Michael \n",
      "1340: Luca \n",
      "1400: Matt \n",
      "1420: Mirjam \n",
      "1440: Jule \n"
     ]
    }
   ],
   "source": [
    "#---Data---#\n",
    "#Employees\n",
    "employee = [:Manuel, :Luca, :Jule, :Michael, :Malte, :Chris, :Spyros,\n",
    "            :Mirjam, :Matt, :Florian, :Josep, :Joel, :Tom, :Daniel, :Anne]\n",
    "\n",
    "#Interview time slots\n",
    "time = [1000, 1020, 1040, 1100, 1120, 1140, 1200, 1300, 1320, 1340, 1400, 1420, 1440]\n",
    "\n",
    "#Schedule of availability(row: employees, column: time)\n",
    "availability = \n",
    "           [0 0 1 1 0 0 0 1 1 0 0 0 0;\n",
    "            0 1 1 0 0 0 0 0 1 1 0 0 0;\n",
    "            0 0 0 1 1 0 1 1 0 1 1 1 1;\n",
    "            0 0 0 1 1 1 1 1 1 1 1 1 0;\n",
    "            0 0 0 0 0 0 1 1 1 0 0 0 0;\n",
    "            0 1 1 0 0 0 0 0 1 1 0 0 0;\n",
    "            0 0 0 1 1 1 1 0 0 0 0 0 0;\n",
    "            1 1 0 0 0 0 0 0 0 0 1 1 1;\n",
    "            1 1 1 0 0 0 0 0 0 1 1 0 0;\n",
    "            0 0 0 0 0 0 0 1 1 0 0 0 0;\n",
    "            0 0 0 0 0 0 1 1 1 0 0 0 0;\n",
    "            1 1 0 0 0 1 1 1 1 0 0 1 1;\n",
    "            1 1 1 0 1 1 0 0 0 0 0 1 1;\n",
    "            0 1 1 1 0 0 0 0 0 0 0 0 0;\n",
    "            1 1 0 0 1 1 0 0 0 0 0 0 0;]\n",
    "\n",
    "#Number of employees that must meet for lunch\n",
    "lunchEmployees = 3  \n",
    "\n",
    "#Column index of lunch hour\n",
    "lunchIndex = 7\n",
    "\n",
    "#---Model---#\n",
    "using JuMP\n",
    "m = Model()\n",
    "\n",
    "#The interview schedule\n",
    "@defVar(m, schedule[1:length(employee), 1:length(time)] >= 0)\n",
    "\n",
    "#There must be enough employees for lunch\n",
    "@addConstraint(m, lunchNumber, sum{schedule[e, lunchIndex], e in 1:length(employee)} == lunchEmployees)\n",
    "\n",
    "#There must be only one employee scheduled at each interview slot (before and after lunch hour)\n",
    "@addConstraint(m, oneEmployee1[t in 1:(lunchIndex-1)], sum{schedule[e,t], e in 1:length(employee)} == 1)\n",
    "@addConstraint(m, oneEmployee2[t in 8:length(time)], sum{schedule[e,t], e in 1:length(employee)} == 1)\n",
    "\n",
    "#Only assign on available times\n",
    "@addConstraint(m, onlyAvailable[e in 1:length(employee), t in 1:length(time)], \n",
    "availability[e, t] - schedule[e, t] >= 0)\n",
    "\n",
    "#Assign each worker at least once\n",
    "@addConstraint(m, onlyOnce[e in 1:length(employee)], sum{schedule[e, t], t in 1:length(time)} >= 1)\n",
    "\n",
    "#Schedule by mimimizing assignments\n",
    "@setObjective(m, Min, sum(schedule))\n",
    "\n",
    "solve(m)\n",
    "#Display schedule\n",
    "println(\"Employees to meet: \")\n",
    "for t in 1:length(time)\n",
    "    print(time[t], \": \")\n",
    "    \n",
    "    for e in 1:length(employee)\n",
    "        if(getValue(schedule[e,t]) == 1)\n",
    "            print(employee[e], \" \")\n",
    "        end\n",
    "    end\n",
    "    println()\n",
    "end"
   ]
  }
 ],
 "metadata": {
  "kernelspec": {
   "display_name": "Julia 0.4.3",
   "language": "julia",
   "name": "julia-0.4"
  },
  "language_info": {
   "file_extension": ".jl",
   "mimetype": "application/julia",
   "name": "julia",
   "version": "0.4.3"
  }
 },
 "nbformat": 4,
 "nbformat_minor": 0
}
