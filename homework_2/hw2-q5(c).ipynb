{
 "cells": [
  {
   "cell_type": "code",
   "execution_count": 1,
   "metadata": {
    "collapsed": false
   },
   "outputs": [
    {
     "name": "stdout",
     "output_type": "stream",
     "text": [
      "Original completion time: 64.0 weeks\n",
      "Completion time with task reduction: 52.0 weeks\n"
     ]
    }
   ],
   "source": [
    "#---Data---#\n",
    "#Tasks\n",
    "task = [:t1, :t2, :t3, :t4, :t5, :t6, :t7, :t8, :t9,            \n",
    "        :t10, :t11, :t12, :t13, :t14, :t15, :t16, :t17, :t18]\n",
    "\n",
    "#Project time spans\n",
    "sp = [2 16 9 8 10 6 2 2 9 5 3 2 1 7 4 3 9 1]\n",
    "span = Dict(zip(task,sp))\n",
    "\n",
    "#Task predecessors\n",
    "pr = ( [], [:t1], [:t2], [:t2], [:t3], [:t4, :t5], [:t4], [:t6], [:t4, :t6], [:t4], [:t6], \n",
    "       [:t9],[:t7], [:t2], [:t4, :t14], [:t8, :t11, :t14], [:t12], [:t17])\n",
    "pred = Dict(zip(task,pr))\n",
    "\n",
    "#Maximum task week reduction \n",
    "mR = [0 3 1 2 2 1 1 0 2 1 1 0 0 2 2 1 3 0]\n",
    "maxRed = Dict(zip(task, mR))\n",
    "\n",
    "#Reduction cost per week\n",
    "rC = [0 30 26 12 17 15 8 0 42 21 18 0 0 22 12 6 16 0]\n",
    "redCost = Dict(zip(task, rC))\n",
    "\n",
    "\n",
    "#---Model without task reduction---#\n",
    "using JuMP\n",
    "m = Model()\n",
    "\n",
    "#Start time of tasks\n",
    "\n",
    "@defVar(m, startTime[task] >= 0 )                \n",
    "#Predecessors must be completed before each task\n",
    "@addConstraint(m, completePred[t in task,p in pred[t]], startTime[t] >= startTime[p] + span[p])\n",
    "\n",
    "#Minimimize completion time of final task\n",
    "@setObjective(m, Min, startTime[task[end]] + span[task[end]])\n",
    "\n",
    "#Display completion time\n",
    "solve(m)\n",
    "println(\"Original completion time: \",getObjectiveValue(m), \" weeks\")  \n",
    "\n",
    "#---Model with task reduction----#\n",
    "m2 = Model()\n",
    "\n",
    "incentive = 30000                         #Incentive per week early\n",
    "\n",
    "@defVar(m2, startTime[task] >= 0 )        #Start time of tasks\n",
    "#Actual span of tasks with reductions\n",
    "@defVar(m2, actualSpan[task] >= 0)\n",
    "\n",
    "#Total incentive received\n",
    "@defExpr(totalIncentive, (getObjectiveValue(m) - (startTime[task[end]] + actualSpan[task[end]]))*incentive)\n",
    "#Total reduction cost\n",
    "@defExpr(totalRedCost, sum{(span[t] - actualSpan[t])*redCost[t], t in task})\n",
    "\n",
    "#Predecessors must be completed before each task\n",
    "@addConstraint(m2, completePred[t in task,p in pred[t]], startTime[t] >= startTime[p] + actualSpan[p])\n",
    "#Constraints on task reduction\n",
    "@addConstraint(m2, redCon[t in task], span[t] - actualSpan[t] <= maxRed[t])\n",
    "@addConstraint(m2, redCon2[t in task], span[t] >= actualSpan[t])\n",
    "\n",
    "@setObjective(m2, Max, totalIncentive - totalRedCost)    #Maximize profit\n",
    "\n",
    "solve(m2)\n",
    "#Display completion time\n",
    "println(\"Completion time with task reduction: \", \n",
    "getValue(startTime[task[end]]) + getValue(actualSpan[task[end]]), \" weeks\")"
   ]
  }
 ],
 "metadata": {
  "kernelspec": {
   "display_name": "Julia 0.4.3",
   "language": "julia",
   "name": "julia-0.4"
  },
  "language_info": {
   "file_extension": ".jl",
   "mimetype": "application/julia",
   "name": "julia",
   "version": "0.4.3"
  }
 },
 "nbformat": 4,
 "nbformat_minor": 0
}
